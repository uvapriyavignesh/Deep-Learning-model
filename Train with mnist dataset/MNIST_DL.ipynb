{
 "cells": [
  {
   "cell_type": "code",
   "execution_count": 1,
   "id": "66f702b0",
   "metadata": {},
   "outputs": [
    {
     "name": "stderr",
     "output_type": "stream",
     "text": [
      "Using TensorFlow backend.\n"
     ]
    }
   ],
   "source": [
    "import numpy as np\n",
    "import matplotlib.pyplot as plt\n",
    "import pylab as pl\n",
    "import keras\n",
    "from keras.datasets import mnist\n",
    "from keras.models import Sequential,model_from_json\n",
    "from keras.layers import Dense\n",
    "from keras.optimizers import RMSprop"
   ]
  },
  {
   "cell_type": "code",
   "execution_count": 2,
   "id": "12903a01",
   "metadata": {},
   "outputs": [
    {
     "name": "stdout",
     "output_type": "stream",
     "text": [
      "60000 train sample\n",
      "10000 test sample\n",
      "[0. 0. 0. 0. 0. 1. 0. 0. 0. 0.] after converting lable to categorical\n"
     ]
    }
   ],
   "source": [
    "#dataset seprated in batch\n",
    "batchSize=130\n",
    "#number  classes in output layer numbers length 0-9 (10 values)\n",
    "noClass=10\n",
    "# number of cycles for update weights(epocs)\n",
    "epochs=2\n",
    "# load mnist dataset.it split train & test sets\n",
    "(x_train,y_train),(x_test,y_test)=mnist.load_data()\n",
    "#input dataset dimention 28*28*1 1==>refered channel (gray scale image)\n",
    "#no of samples in x_train=60000\n",
    "# flatten image size 28*28*1=784\n",
    "x_train=x_train.reshape(60000,784)\n",
    "x_test=x_test.reshape(10000,784)\n",
    "x_train=x_train.astype('float32')\n",
    "x_test=x_test.astype('float32')\n",
    "\n",
    "#normailzed to 0 &1\n",
    "x_train /=255\n",
    "x_test /=255\n",
    "\n",
    "print(x_train.shape[0],\"train sample\")\n",
    "print(x_test.shape[0],\"test sample\")\n",
    "#create class vector to binary class matrices example (1)=0100000000\n",
    "y_train=keras.utils.to_categorical(y_train,noClass)\n",
    "y_test=keras.utils.to_categorical(y_test,noClass)\n",
    "print(y_train[0],\"after converting lable to categorical\")\n"
   ]
  },
  {
   "cell_type": "markdown",
   "id": "f2716f7e",
   "metadata": {},
   "source": [
    "# printing a sample data from data set"
   ]
  },
  {
   "cell_type": "code",
   "execution_count": 3,
   "id": "ba07620a",
   "metadata": {},
   "outputs": [
    {
     "name": "stdout",
     "output_type": "stream",
     "text": [
      "lable: [[0. 0. 1. 0. 0. 0. 0. 0. 0. 0.]]\n"
     ]
    },
    {
     "data": {
      "image/png": "[encoded data removed]",
      "text/plain": [
       "<Figure size 432x288 with 1 Axes>"
      ]
     },
     "metadata": {
      "needs_background": "light"
     },
     "output_type": "display_data"
    }
   ],
   "source": [
    "print('lable:',y_train[199:200])\n",
    "plt.imshow(x_train[199:200].reshape(28,28),cmap='gray')\n",
    "plt.show()\n"
   ]
  },
  {
   "cell_type": "code",
   "execution_count": 4,
   "id": "0c1eb37a",
   "metadata": {},
   "outputs": [],
   "source": [
    "first_layer_nodes=40\n",
    "#model sequently add layer\n",
    "model=Sequential()\n",
    "#create first layer\n",
    "model.add(Dense(first_layer_nodes,activation='sigmoid',input_shape=(784,)))\n",
    "#create 2 hidden layer\n",
    "model.add(Dense(40,activation='sigmoid'))\n",
    "#create 2 hidden layer\n",
    "model.add(Dense(40,activation='sigmoid'))\n",
    "#last layer\n",
    "model.add(Dense(noClass,activation='softmax'))"
   ]
  },
  {
   "cell_type": "code",
   "execution_count": 5,
   "id": "4900043c",
   "metadata": {},
   "outputs": [
    {
     "name": "stdout",
     "output_type": "stream",
     "text": [
      "Model: \"sequential_1\"\n",
      "_________________________________________________________________\n",
      "Layer (type)                 Output Shape              Param #   \n",
      "=================================================================\n",
      "dense_1 (Dense)              (None, 40)                31400     \n",
      "_________________________________________________________________\n",
      "dense_2 (Dense)              (None, 40)                1640      \n",
      "_________________________________________________________________\n",
      "dense_3 (Dense)              (None, 40)                1640      \n",
      "_________________________________________________________________\n",
      "dense_4 (Dense)              (None, 10)                410       \n",
      "=================================================================\n",
      "Total params: 35,090\n",
      "Trainable params: 35,090\n",
      "Non-trainable params: 0\n",
      "_________________________________________________________________\n"
     ]
    }
   ],
   "source": [
    "# show model structure\n",
    "model.summary()"
   ]
  },
  {
   "cell_type": "markdown",
   "id": "de1375a4",
   "metadata": {},
   "source": [
    "# get initiall random weights"
   ]
  },
  {
   "cell_type": "code",
   "execution_count": 6,
   "id": "c2c44375",
   "metadata": {},
   "outputs": [
    {
     "name": "stdout",
     "output_type": "stream",
     "text": [
      "[array([[ 0.03130753,  0.0057411 , -0.0644053 , ...,  0.03942031,\n",
      "        -0.07111591, -0.0108846 ],\n",
      "       [-0.08477032, -0.01567047, -0.0697853 , ..., -0.07907654,\n",
      "        -0.02297001, -0.03912625],\n",
      "       [-0.00192557, -0.04272625, -0.02644745, ..., -0.07030632,\n",
      "         0.01550114,  0.0451033 ],\n",
      "       ...,\n",
      "       [ 0.02881292,  0.01118018,  0.01527344, ...,  0.01456925,\n",
      "        -0.04793654,  0.05413361],\n",
      "       [ 0.07236274, -0.01887196,  0.08222674, ...,  0.00361787,\n",
      "         0.02372377, -0.01802428],\n",
      "       [ 0.0694274 ,  0.08281082,  0.01280976, ..., -0.03206911,\n",
      "        -0.06438898, -0.00868027]], dtype=float32), array([0., 0., 0., 0., 0., 0., 0., 0., 0., 0., 0., 0., 0., 0., 0., 0., 0.,\n",
      "       0., 0., 0., 0., 0., 0., 0., 0., 0., 0., 0., 0., 0., 0., 0., 0., 0.,\n",
      "       0., 0., 0., 0., 0., 0.], dtype=float32)]\n"
     ]
    }
   ],
   "source": [
    "# for get initiall random weights\n",
    "print((model.layers[0]).get_weights())\n"
   ]
  },
  {
   "cell_type": "markdown",
   "id": "3be2cbe9",
   "metadata": {},
   "source": [
    "# to get initiall random weights in graph"
   ]
  },
  {
   "cell_type": "code",
   "execution_count": 7,
   "id": "5a673bd5",
   "metadata": {},
   "outputs": [
    {
     "name": "stdout",
     "output_type": "stream",
     "text": [
      "shape of first layer (784, 40)\n"
     ]
    },
    {
     "data": {
      "image/png": "[encoded data removed]",
      "text/plain": [
       "<Figure size 864x864 with 1 Axes>"
      ]
     },
     "metadata": {
      "needs_background": "light"
     },
     "output_type": "display_data"
    },
    {
     "data": {
      "image/png": "[encoded data removed]",
      "text/plain": [
       "<Figure size 432x288 with 1 Axes>"
      ]
     },
     "metadata": {
      "needs_background": "light"
     },
     "output_type": "display_data"
    },
    {
     "data": {
      "image/png": "[encoded data removed]",
      "text/plain": [
       "<Figure size 432x288 with 1 Axes>"
      ]
     },
     "metadata": {
      "needs_background": "light"
     },
     "output_type": "display_data"
    },
    {
     "data": {
      "image/png": "[encoded data removed]",
      "text/plain": [
       "<Figure size 432x288 with 1 Axes>"
      ]
     },
     "metadata": {
      "needs_background": "light"
     },
     "output_type": "display_data"
    },
    {
     "data": {
      "image/png": "[encoded data removed]",
      "text/plain": [
       "<Figure size 432x288 with 1 Axes>"
      ]
     },
     "metadata": {
      "needs_background": "light"
     },
     "output_type": "display_data"
    }
   ],
   "source": [
    "w=[]\n",
    "for i in model.layers:\n",
    "    weights=i.get_weights()\n",
    "    w.append(weights)\n",
    "layer1=np.array(w[0][0])\n",
    "print(\"shape of first layer\",layer1.shape)\n",
    "fig=plt.figure(figsize=(12,12))\n",
    "colum=8\n",
    "rows=10\n",
    "\n",
    "for i in range(1,6):\n",
    "    fig.add_subplot(rows,colum,i)\n",
    "    plt.imshow(layer1[:,i-1].reshape(28,28),cmap='gray')\n",
    "    plt.show()"
   ]
  },
  {
   "cell_type": "code",
   "execution_count": 8,
   "id": "5ba921c2-9091-4c8d-bf75-d786eb5eed25",
   "metadata": {},
   "outputs": [],
   "source": [
    "#it use to compile our model\n",
    "model.compile(loss='categorical_crossentropy',optimizer=RMSprop(),metrics=['accuracy'])\n"
   ]
  },
  {
   "cell_type": "markdown",
   "id": "8fd84157",
   "metadata": {},
   "source": [
    "# let's start to train the model"
   ]
  },
  {
   "cell_type": "code",
   "execution_count": 13,
   "id": "cdb23b18",
   "metadata": {},
   "outputs": [
    {
     "name": "stdout",
     "output_type": "stream",
     "text": [
      "Epoch 1/2\n",
      "60000/60000 [==============================] - 5s 76us/step - loss: 0.1350 - accuracy: 0.9615\n",
      "Epoch 2/2\n",
      "60000/60000 [==============================] - 4s 68us/step - loss: 0.1250 - accuracy: 0.9642\n"
     ]
    }
   ],
   "source": [
    "train= model.fit(x_train,y_train,batch_size=batchSize,verbose=1,epochs=epochs)"
   ]
  },
  {
   "cell_type": "markdown",
   "id": "3f82d3b5",
   "metadata": {},
   "source": [
    "# to get trained weights in graph"
   ]
  },
  {
   "cell_type": "code",
   "execution_count": 14,
   "id": "a966ca09",
   "metadata": {},
   "outputs": [
    {
     "name": "stdout",
     "output_type": "stream",
     "text": [
      "shape of first layer (784, 40)\n"
     ]
    },
    {
     "data": {
      "image/png": "[encoded data removed]",
      "text/plain": [
       "<Figure size 864x864 with 1 Axes>"
      ]
     },
     "metadata": {
      "needs_background": "light"
     },
     "output_type": "display_data"
    },
    {
     "data": {
      "image/png": "[encoded data removed]",
      "text/plain": [
       "<Figure size 432x288 with 1 Axes>"
      ]
     },
     "metadata": {
      "needs_background": "light"
     },
     "output_type": "display_data"
    },
    {
     "data": {
      "image/png": "[encoded data removed]",
      "text/plain": [
       "<Figure size 432x288 with 1 Axes>"
      ]
     },
     "metadata": {
      "needs_background": "light"
     },
     "output_type": "display_data"
    },
    {
     "data": {
      "image/png": "[encoded data removed]",
      "text/plain": [
       "<Figure size 432x288 with 1 Axes>"
      ]
     },
     "metadata": {
      "needs_background": "light"
     },
     "output_type": "display_data"
    },
    {
     "data": {
      "image/png": "[encoded data removed]",
      "text/plain": [
       "<Figure size 432x288 with 1 Axes>"
      ]
     },
     "metadata": {
      "needs_background": "light"
     },
     "output_type": "display_data"
    }
   ],
   "source": [
    "w=[]\n",
    "for i in model.layers:\n",
    "    weights=i.get_weights()\n",
    "    w.append(weights)\n",
    "layer1=np.array(w[0][0])\n",
    "print(\"shape of first layer\",layer1.shape)\n",
    "fig=plt.figure(figsize=(12,12))\n",
    "colum=8\n",
    "rows=10\n",
    "\n",
    "for i in range(1,6):\n",
    "    fig.add_subplot(rows,colum,i)\n",
    "    plt.imshow(layer1[:,i-1].reshape(28,28),cmap='gray')\n",
    "    plt.show()"
   ]
  },
  {
   "cell_type": "code",
   "execution_count": 19,
   "id": "2ec75f96",
   "metadata": {},
   "outputs": [
    {
     "name": "stdout",
     "output_type": "stream",
     "text": [
      "10000/10000 [==============================] - 1s 115us/step\n"
     ]
    }
   ],
   "source": [
    "score=model.evaluate(x_test,y_test,verbose=1)"
   ]
  },
  {
   "cell_type": "code",
   "execution_count": 20,
   "id": "48bfa4b2",
   "metadata": {},
   "outputs": [
    {
     "name": "stdout",
     "output_type": "stream",
     "text": [
      "loss: 0.18653356004059315\n",
      "accuracy: 0.9480000138282776\n"
     ]
    }
   ],
   "source": [
    "\n",
    "print(\"loss:\",score[0])\n",
    "print(\"accuracy:\",score[1])"
   ]
  },
  {
   "cell_type": "markdown",
   "id": "d5f165e7",
   "metadata": {},
   "source": [
    "# Testing our model"
   ]
  },
  {
   "cell_type": "code",
   "execution_count": 26,
   "id": "c516a8b0",
   "metadata": {},
   "outputs": [
    {
     "name": "stdout",
     "output_type": "stream",
     "text": [
      "output: [False  True False False False False False False False False]\n"
     ]
    }
   ],
   "source": [
    "predict=model.predict(x_train[455:456])\n",
    "predict=predict[0]\n",
    "\n",
    "print(\"output:\",(predict>0.5))"
   ]
  },
  {
   "cell_type": "markdown",
   "id": "9b867336",
   "metadata": {},
   "source": [
    "# store the trained model"
   ]
  },
  {
   "cell_type": "code",
   "execution_count": null,
   "id": "83cf2783",
   "metadata": {},
   "outputs": [],
   "source": [
    "# seralize model to json\n",
    "model_json=model.to_json()\n",
    "#vwrite model on file name\n",
    "with open (\"model.json\",\"w\")as mj:\n",
    "     mj.write(model_json)\n",
    "#write trained weights    \n",
    "model.save_weights(\"model.h5\")\n",
    "print(\"model saved\")\n",
    "    "
   ]
  },
  {
   "cell_type": "code",
   "execution_count": null,
   "id": "13bc4bae",
   "metadata": {},
   "outputs": [],
   "source": []
  }
 ],
 "metadata": {
  "kernelspec": {
   "display_name": "Python 3",
   "language": "python",
   "name": "python3"
  },
  "language_info": {
   "codemirror_mode": {
    "name": "ipython",
    "version": 3
   },
   "file_extension": ".py",
   "mimetype": "text/x-python",
   "name": "python",
   "nbconvert_exporter": "python",
   "pygments_lexer": "ipython3",
   "version": "3.6.13"
  }
 },
 "nbformat": 4,
 "nbformat_minor": 5
}
